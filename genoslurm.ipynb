{
 "cells": [
  {
   "cell_type": "code",
   "execution_count": 1,
   "metadata": {},
   "outputs": [],
   "source": [
    "import pandas as pd\n",
    "import os"
   ]
  },
  {
   "cell_type": "code",
   "execution_count": 32,
   "metadata": {},
   "outputs": [],
   "source": [
    "def chunks(lst, n):\n",
    "    \"\"\"Yield successive n-sized chunks from lst.\"\"\"\n",
    "    outlist = []\n",
    "    for i in range(0, len(lst), n):\n",
    "        outlist.append(lst[i:i + n])\n",
    "    return outlist\n",
    "\n",
    "\n",
    "\n",
    "\n",
    "\n",
    "# def write_sbatch(idat_list, script_path, job_name, log_out, log_err, ntasks, nodes, time, array):\n",
    "    \n",
    "#     # Create a sbatch script\n",
    "#     with open(f'{script_path}', 'w') as f:\n",
    "#         f.write('#!/bin/bash\\n')\n",
    "#         f.write(f'#SBATCH --job-name={job_name}\\n')\n",
    "#         f.write(f'#SBATCH --output={log_out}\\n')\n",
    "#         f.write(f'#SBATCH --error={log_err}\\n')\n",
    "#         f.write(f'#SBATCH --ntasks={ntasks}\\n')\n",
    "#         f.write(f'#SBATCH --nodes={nodes}\\n')\n",
    "#         f.write(f'#SBATCH --time={time}\\n')\n",
    "#         f.write(f'#SBATCH --array={array}\\n')\n",
    "#         f.write('\\n')\n",
    "#         f.write('echo \"Starting job\"\\n')\n",
    "#         f.write('date\\n')\n",
    "#         f.write('\\n')\n",
    "\n",
    "#         # for i, idat_path in enumerate(idat_list):\n",
    "#         for code in idat_list:\n",
    "            \n",
    "#             # code = idat_path.split('/')[-1]\n",
    "#             idat_dir_in = f'{datapath}/gp2_idats/{code}'\n",
    "#             # plink_dir_out = f'{datapath}/gp2_plink'\n",
    "\n",
    "#             gcs_path = f'gp2_uk'\n",
    "#             gcs_idat_path = f'{gcs_path}/gp2_idats/{code}'\n",
    "#             gcs_plink_path = f'{gcs_path}/gp2_plink'\n",
    "            \n",
    "#             # files not writing properly to gcs via gcsfuse so write to path in vm and copy to gcs \n",
    "#             tmp_out_dir = f'~/tmp/{code}'\n",
    "\n",
    "#             command = f'\\\n",
    "#     cd ~/; mkdir {idat_dir_in}; \\\n",
    "#     gcsfuse --dir-mode 776 --file-mode 776 --implicit-dirs {gcs_idat_path} {idat_dir_in}; \\\n",
    "#     {iaap} gencall \\\n",
    "#     {bpm} \\\n",
    "#     {egt} \\\n",
    "#     {tmp_out_dir} \\\n",
    "#     -f {idat_dir_in} \\\n",
    "#     -p \\\n",
    "#     -t 2; \\\n",
    "#     gsutil cp -r {tmp_out_dir}/ gs://{gcs_plink_path}/'\n",
    "#             f.write(f'# Run command for file {idat_dir_in}\\n')\n",
    "#             f.write(f'{command}\\n')\n",
    "#         f.write('\\n')\n",
    "#         f.write('echo \"Job finished\"\\n')\n",
    "#         f.write('date\\n')\n",
    "#     f.close()\n",
    "\n"
   ]
  },
  {
   "cell_type": "code",
   "execution_count": 33,
   "metadata": {},
   "outputs": [],
   "source": [
    "# cluster config variables\n",
    "max_nodes = 10\n",
    "\n",
    "# list of idats in directory of choice\n",
    "# !gsutil ls gs://gp2_uk/gp2_idats/ > tmp/idats.txt\n",
    "idats_in = pd.read_csv('tmp/idats.txt', header=None)\n",
    "idat_list = idats_in.loc[1:,0]\n",
    "idat_list = [x.replace('gs://gp2_uk/gp2_idats/','')[:-1] for x in idat_list]\n",
    "\n",
    "# chunk list by max nodes\n",
    "idat_list_chunks = chunks(idat_list, max_nodes)\n",
    "\n",
    "# paths\n",
    "datapath = '~/data'\n",
    "tmp_dir = '~/tmp'\n",
    "ilmn_files_path = '~/ilmn_files'\n",
    "iaap = '~/GenoTools/executables/iaap-cli-linux-x64-1.1.0-sha.80d7e5b3d9c1fdfc2e99b472a90652fd3848bbc7/iaap-cli/iaap-cli'\n",
    "bpm = f'{datapath}/ilmn_files/NeuroBooster_20042459_A1.bpm'\n",
    "egt = f'{datapath}/ilmn_files/recluster_09272022.egt'\n",
    "plink_file_path = f'{datapath}/ilmn_files/gp2_plink'"
   ]
  },
  {
   "cell_type": "code",
   "execution_count": 43,
   "metadata": {},
   "outputs": [],
   "source": [
    "# now loop through chunks to create a job for every {max_nodes} barcodes \n",
    "# 1 node per barcode. (n_idats<=(80*max_nodes))\n",
    "\n",
    "for i, chunk in enumerate(idat_list_chunks):\n",
    "\n",
    "    script_path = f'cluster_scripts/call_gts_{i}.sh'\n",
    "    job_name = f'callgts_{i}'\n",
    "    log_path = '/home/dan_datatecnica_com/logs'\n",
    "    log_out = f'{log_path}/test.out'\n",
    "    log_err = f'{log_path}/test.err'\n",
    "    # log_out = f'{log_path}/{job_name}.%A_%a.out'\n",
    "    # log_err = f'{log_path}/{job_name}.%A_%a.err'\n",
    "    # ntasks = str(len(idat_list))\n",
    "    # nodes = str(len(idat_list))\n",
    "    nodes = len(chunk)\n",
    "    ntasks = len(chunk)\n",
    "    time = '01:00:00'\n",
    "    array = f'1-{len(chunk)}'\n",
    "\n",
    "    # Create a sbatch script\n",
    "    with open(f'cluster_scripts/call_gts_{i}.sh', 'w') as f:\n",
    "        f.write('#!/bin/bash\\n')\n",
    "        f.write(f'#SBATCH --job-name={job_name}\\n')\n",
    "        f.write(f'#SBATCH --output={log_out}\\n')\n",
    "        f.write(f'#SBATCH --error={log_err}\\n')\n",
    "        f.write(f'#SBATCH --ntasks={ntasks}\\n')\n",
    "        f.write(f'#SBATCH --nodes={nodes}\\n')\n",
    "        f.write(f'#SBATCH --time={time}\\n')\n",
    "        f.write(f'#SBATCH --array={array}\\n')\n",
    "        f.write('\\n')\n",
    "        f.write('echo \"Starting job\"\\n')\n",
    "        f.write('date\\n')\n",
    "        f.write('\\n')\n",
    "\n",
    "        for code in idat_list:\n",
    "            \n",
    "            # path in vm that is mounted to bucket\n",
    "            idat_dir_in = f'{datapath}/gp2_idats/{code}'\n",
    "\n",
    "            # bucket paths\n",
    "            gcs_path = f'gp2_uk'\n",
    "            gcs_idat_path = f'{gcs_path}/gp2_idats/{code}'\n",
    "            gcs_plink_path = f'{gcs_path}/gp2_plink'\n",
    "            \n",
    "            # files not writing properly to gcs via gcsfuse so write to path in vm and copy to gcs \n",
    "            tmp_out_dir = f'~/tmp/{code}'\n",
    "\n",
    "            command = f'\\\n",
    "cd ~/; mkdir {idat_dir_in}; \\\n",
    "gcsfuse --dir-mode 776 --file-mode 776 --implicit-dirs {gcs_idat_path} {idat_dir_in}; \\\n",
    "{iaap} gencall \\\n",
    "{bpm} \\\n",
    "{egt} \\\n",
    "{tmp_out_dir} \\\n",
    "-f {idat_dir_in} \\\n",
    "-p \\\n",
    "-t 2; \\\n",
    "gsutil cp -r {tmp_out_dir}/ gs://{gcs_plink_path}/'\n",
    "\n",
    "            f.write(f'# Run command for file {idat_dir_in}\\n')\n",
    "            f.write(f'{command}\\n')\n",
    "            f.write('\\n')\n",
    "\n",
    "        f.write('\\n')\n",
    "        f.write('echo \"Job finished\"\\n')\n",
    "        f.write('date\\n')\n",
    "    f.close()"
   ]
  },
  {
   "cell_type": "code",
   "execution_count": 44,
   "metadata": {},
   "outputs": [
    {
     "name": "stdout",
     "output_type": "stream",
     "text": [
      "/etc/profile.d/lang.sh: line 19: warning: setlocale: LC_CTYPE: cannot change locale (UTF-8): No such file or directory\n",
      "call_gts_0.sh                                 100% 6759    50.5KB/s   00:00    \n",
      "call_gts_1.sh                                 100% 6756    50.1KB/s   00:00    \n"
     ]
    }
   ],
   "source": [
    "# copy scripts to vm\n",
    "!gcloud compute scp cluster_scripts/call_gts_*.sh test-login0:/home/dan_datatecnica_com/scripts/ --project genotools --zone europe-west2-a"
   ]
  },
  {
   "cell_type": "code",
   "execution_count": 45,
   "metadata": {},
   "outputs": [
    {
     "name": "stdout",
     "output_type": "stream",
     "text": [
      "/etc/profile.d/lang.sh: line 19: warning: setlocale: LC_CTYPE: cannot change locale (UTF-8): No such file or directory\n",
      "Submitted batch job 21\n"
     ]
    }
   ],
   "source": [
    "# launch commands\n",
    "!gcloud compute ssh --zone europe-west2-a --project genotools test-login0 --command 'sbatch ~/scripts/call_gts_0.sh'"
   ]
  },
  {
   "cell_type": "code",
   "execution_count": 37,
   "metadata": {},
   "outputs": [
    {
     "name": "stdout",
     "output_type": "stream",
     "text": [
      "#!/bin/bash\n",
      "#SBATCH --job-name=callgts_1\n",
      "#SBATCH --output=~/logs/callgts_1.%A_%a.out\n",
      "#SBATCH --error=~/logs/callgts_1.%A_%a.err\n",
      "#SBATCH --ntasks=2\n",
      "#SBATCH --nodes=2\n",
      "#SBATCH --time=01:00:00\n",
      "#SBATCH --array=1-2\n",
      "\n",
      "echo \"Starting job\"\n",
      "date\n",
      "\n",
      "# Run command for file ~/data/gp2_idats/204620380001\n",
      "cd ~/; mkdir ~/data/gp2_idats/204620380001; gcsfuse --dir-mode 776 --file-mode 776 --implicit-dirs gp2_uk/gp2_idats/204620380001 ~/data/gp2_idats/204620380001; ~/GenoTools/executables/iaap-cli-linux-x64-1.1.0-sha.80d7e5b3d9c1fdfc2e99b472a90652fd3848bbc7/iaap-cli/iaap-cli gencall ~/data/ilmn_files/NeuroBooster_20042459_A1.bpm ~/data/ilmn_files/recluster_09272022.egt ~/tmp/204620380001 -f ~/data/gp2_idats/204620380001 -p -t 2; gsutil cp -r ~/tmp/204620380001/ gs://gp2_uk/gp2_plink/\n",
      "\n",
      "# Run command for file ~/data/gp2_idats/206412050154\n",
      "cd ~/; mkdir ~/data/gp2_idats/206412050154; gcsfuse --dir-mode 776 --file-mode 776 --implicit-dirs gp2_uk/gp2_idats/206412050154 ~/data/gp2_idats/206412050154; ~/GenoTools/executables/iaap-cli-linux-x64-1.1.0-sha.80d7e5b3d9c1fdfc2e99b472a90652fd3848bbc7/iaap-cli/iaap-cli gencall ~/data/ilmn_files/NeuroBooster_20042459_A1.bpm ~/data/ilmn_files/recluster_09272022.egt ~/tmp/206412050154 -f ~/data/gp2_idats/206412050154 -p -t 2; gsutil cp -r ~/tmp/206412050154/ gs://gp2_uk/gp2_plink/\n",
      "\n",
      "# Run command for file ~/data/gp2_idats/206412050160\n",
      "cd ~/; mkdir ~/data/gp2_idats/206412050160; gcsfuse --dir-mode 776 --file-mode 776 --implicit-dirs gp2_uk/gp2_idats/206412050160 ~/data/gp2_idats/206412050160; ~/GenoTools/executables/iaap-cli-linux-x64-1.1.0-sha.80d7e5b3d9c1fdfc2e99b472a90652fd3848bbc7/iaap-cli/iaap-cli gencall ~/data/ilmn_files/NeuroBooster_20042459_A1.bpm ~/data/ilmn_files/recluster_09272022.egt ~/tmp/206412050160 -f ~/data/gp2_idats/206412050160 -p -t 2; gsutil cp -r ~/tmp/206412050160/ gs://gp2_uk/gp2_plink/\n",
      "\n",
      "# Run command for file ~/data/gp2_idats/206412050162\n",
      "cd ~/; mkdir ~/data/gp2_idats/206412050162; gcsfuse --dir-mode 776 --file-mode 776 --implicit-dirs gp2_uk/gp2_idats/206412050162 ~/data/gp2_idats/206412050162; ~/GenoTools/executables/iaap-cli-linux-x64-1.1.0-sha.80d7e5b3d9c1fdfc2e99b472a90652fd3848bbc7/iaap-cli/iaap-cli gencall ~/data/ilmn_files/NeuroBooster_20042459_A1.bpm ~/data/ilmn_files/recluster_09272022.egt ~/tmp/206412050162 -f ~/data/gp2_idats/206412050162 -p -t 2; gsutil cp -r ~/tmp/206412050162/ gs://gp2_uk/gp2_plink/\n",
      "\n",
      "# Run command for file ~/data/gp2_idats/206412050175\n",
      "cd ~/; mkdir ~/data/gp2_idats/206412050175; gcsfuse --dir-mode 776 --file-mode 776 --implicit-dirs gp2_uk/gp2_idats/206412050175 ~/data/gp2_idats/206412050175; ~/GenoTools/executables/iaap-cli-linux-x64-1.1.0-sha.80d7e5b3d9c1fdfc2e99b472a90652fd3848bbc7/iaap-cli/iaap-cli gencall ~/data/ilmn_files/NeuroBooster_20042459_A1.bpm ~/data/ilmn_files/recluster_09272022.egt ~/tmp/206412050175 -f ~/data/gp2_idats/206412050175 -p -t 2; gsutil cp -r ~/tmp/206412050175/ gs://gp2_uk/gp2_plink/\n",
      "\n",
      "# Run command for file ~/data/gp2_idats/206451070064\n",
      "cd ~/; mkdir ~/data/gp2_idats/206451070064; gcsfuse --dir-mode 776 --file-mode 776 --implicit-dirs gp2_uk/gp2_idats/206451070064 ~/data/gp2_idats/206451070064; ~/GenoTools/executables/iaap-cli-linux-x64-1.1.0-sha.80d7e5b3d9c1fdfc2e99b472a90652fd3848bbc7/iaap-cli/iaap-cli gencall ~/data/ilmn_files/NeuroBooster_20042459_A1.bpm ~/data/ilmn_files/recluster_09272022.egt ~/tmp/206451070064 -f ~/data/gp2_idats/206451070064 -p -t 2; gsutil cp -r ~/tmp/206451070064/ gs://gp2_uk/gp2_plink/\n",
      "\n",
      "# Run command for file ~/data/gp2_idats/206451070070\n",
      "cd ~/; mkdir ~/data/gp2_idats/206451070070; gcsfuse --dir-mode 776 --file-mode 776 --implicit-dirs gp2_uk/gp2_idats/206451070070 ~/data/gp2_idats/206451070070; ~/GenoTools/executables/iaap-cli-linux-x64-1.1.0-sha.80d7e5b3d9c1fdfc2e99b472a90652fd3848bbc7/iaap-cli/iaap-cli gencall ~/data/ilmn_files/NeuroBooster_20042459_A1.bpm ~/data/ilmn_files/recluster_09272022.egt ~/tmp/206451070070 -f ~/data/gp2_idats/206451070070 -p -t 2; gsutil cp -r ~/tmp/206451070070/ gs://gp2_uk/gp2_plink/\n",
      "\n",
      "# Run command for file ~/data/gp2_idats/206451070071\n",
      "cd ~/; mkdir ~/data/gp2_idats/206451070071; gcsfuse --dir-mode 776 --file-mode 776 --implicit-dirs gp2_uk/gp2_idats/206451070071 ~/data/gp2_idats/206451070071; ~/GenoTools/executables/iaap-cli-linux-x64-1.1.0-sha.80d7e5b3d9c1fdfc2e99b472a90652fd3848bbc7/iaap-cli/iaap-cli gencall ~/data/ilmn_files/NeuroBooster_20042459_A1.bpm ~/data/ilmn_files/recluster_09272022.egt ~/tmp/206451070071 -f ~/data/gp2_idats/206451070071 -p -t 2; gsutil cp -r ~/tmp/206451070071/ gs://gp2_uk/gp2_plink/\n",
      "\n",
      "# Run command for file ~/data/gp2_idats/206451070072\n",
      "cd ~/; mkdir ~/data/gp2_idats/206451070072; gcsfuse --dir-mode 776 --file-mode 776 --implicit-dirs gp2_uk/gp2_idats/206451070072 ~/data/gp2_idats/206451070072; ~/GenoTools/executables/iaap-cli-linux-x64-1.1.0-sha.80d7e5b3d9c1fdfc2e99b472a90652fd3848bbc7/iaap-cli/iaap-cli gencall ~/data/ilmn_files/NeuroBooster_20042459_A1.bpm ~/data/ilmn_files/recluster_09272022.egt ~/tmp/206451070072 -f ~/data/gp2_idats/206451070072 -p -t 2; gsutil cp -r ~/tmp/206451070072/ gs://gp2_uk/gp2_plink/\n",
      "\n",
      "# Run command for file ~/data/gp2_idats/206451070101\n",
      "cd ~/; mkdir ~/data/gp2_idats/206451070101; gcsfuse --dir-mode 776 --file-mode 776 --implicit-dirs gp2_uk/gp2_idats/206451070101 ~/data/gp2_idats/206451070101; ~/GenoTools/executables/iaap-cli-linux-x64-1.1.0-sha.80d7e5b3d9c1fdfc2e99b472a90652fd3848bbc7/iaap-cli/iaap-cli gencall ~/data/ilmn_files/NeuroBooster_20042459_A1.bpm ~/data/ilmn_files/recluster_09272022.egt ~/tmp/206451070101 -f ~/data/gp2_idats/206451070101 -p -t 2; gsutil cp -r ~/tmp/206451070101/ gs://gp2_uk/gp2_plink/\n",
      "\n",
      "# Run command for file ~/data/gp2_idats/206451070115\n",
      "cd ~/; mkdir ~/data/gp2_idats/206451070115; gcsfuse --dir-mode 776 --file-mode 776 --implicit-dirs gp2_uk/gp2_idats/206451070115 ~/data/gp2_idats/206451070115; ~/GenoTools/executables/iaap-cli-linux-x64-1.1.0-sha.80d7e5b3d9c1fdfc2e99b472a90652fd3848bbc7/iaap-cli/iaap-cli gencall ~/data/ilmn_files/NeuroBooster_20042459_A1.bpm ~/data/ilmn_files/recluster_09272022.egt ~/tmp/206451070115 -f ~/data/gp2_idats/206451070115 -p -t 2; gsutil cp -r ~/tmp/206451070115/ gs://gp2_uk/gp2_plink/\n",
      "\n",
      "# Run command for file ~/data/gp2_idats/206451070117\n",
      "cd ~/; mkdir ~/data/gp2_idats/206451070117; gcsfuse --dir-mode 776 --file-mode 776 --implicit-dirs gp2_uk/gp2_idats/206451070117 ~/data/gp2_idats/206451070117; ~/GenoTools/executables/iaap-cli-linux-x64-1.1.0-sha.80d7e5b3d9c1fdfc2e99b472a90652fd3848bbc7/iaap-cli/iaap-cli gencall ~/data/ilmn_files/NeuroBooster_20042459_A1.bpm ~/data/ilmn_files/recluster_09272022.egt ~/tmp/206451070117 -f ~/data/gp2_idats/206451070117 -p -t 2; gsutil cp -r ~/tmp/206451070117/ gs://gp2_uk/gp2_plink/\n",
      "\n",
      "\n",
      "echo \"Job finished\"\n",
      "date\n"
     ]
    }
   ],
   "source": [
    "!cat cluster_scripts/call_gts_{i}.sh\n"
   ]
  },
  {
   "cell_type": "code",
   "execution_count": 17,
   "metadata": {},
   "outputs": [
    {
     "data": {
      "text/plain": [
       "<generator object chunks at 0x157aa2190>"
      ]
     },
     "execution_count": 17,
     "metadata": {},
     "output_type": "execute_result"
    }
   ],
   "source": [
    "idat_list_chunks"
   ]
  },
  {
   "cell_type": "code",
   "execution_count": 19,
   "metadata": {},
   "outputs": [],
   "source": [
    "for i, chunk in enumerate(idat_list_chunks):\n",
    "    print(i)"
   ]
  },
  {
   "cell_type": "code",
   "execution_count": 23,
   "metadata": {},
   "outputs": [
    {
     "name": "stdout",
     "output_type": "stream",
     "text": [
      "[]\n"
     ]
    }
   ],
   "source": [
    "import pprint\n",
    "pprint.pprint(list(idat_list_chunks))"
   ]
  },
  {
   "cell_type": "code",
   "execution_count": 24,
   "metadata": {},
   "outputs": [
    {
     "data": {
      "text/plain": [
       "['204620380001',\n",
       " '206412050154',\n",
       " '206412050160',\n",
       " '206412050162',\n",
       " '206412050175',\n",
       " '206451070064',\n",
       " '206451070070',\n",
       " '206451070071',\n",
       " '206451070072',\n",
       " '206451070101',\n",
       " '206451070115',\n",
       " '206451070117']"
      ]
     },
     "execution_count": 24,
     "metadata": {},
     "output_type": "execute_result"
    }
   ],
   "source": [
    "idat_list"
   ]
  },
  {
   "cell_type": "code",
   "execution_count": null,
   "metadata": {},
   "outputs": [],
   "source": []
  }
 ],
 "metadata": {
  "kernelspec": {
   "display_name": ".venv",
   "language": "python",
   "name": "python3"
  },
  "language_info": {
   "codemirror_mode": {
    "name": "ipython",
    "version": 3
   },
   "file_extension": ".py",
   "mimetype": "text/x-python",
   "name": "python",
   "nbconvert_exporter": "python",
   "pygments_lexer": "ipython3",
   "version": "3.9.6"
  },
  "orig_nbformat": 4,
  "vscode": {
   "interpreter": {
    "hash": "0f7160342989abd67da089259c8f7d683a0ec2850c327d5a4ff1c722e0eb3dc7"
   }
  }
 },
 "nbformat": 4,
 "nbformat_minor": 2
}
