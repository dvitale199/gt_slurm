{
 "cells": [
  {
   "cell_type": "code",
   "execution_count": 1,
   "metadata": {},
   "outputs": [],
   "source": [
    "import pandas as pd\n",
    "import os\n",
    "from genoslurm.genoslurm import chunks, GenCallJob"
   ]
  },
  {
   "cell_type": "code",
   "execution_count": 2,
   "metadata": {},
   "outputs": [],
   "source": [
    "# cluster config variables\n",
    "max_nodes = 10\n",
    "\n",
    "# paths- MAKE SURE TO SET TO YOUR OWN HOME PATH IN THE CLUSTER\n",
    "userhome = '/home/dan_datatecnica_com'\n",
    "datapath = f'/tmp/data'\n",
    "log_dir = f'{userhome}/logs'\n",
    "ilmn_files_path = f'{userhome}/ilmn_files'\n",
    "iaap = f'{userhome}/GenoTools/executables/iaap-cli-linux-x64-1.1.0-sha.80d7e5b3d9c1fdfc2e99b472a90652fd3848bbc7/iaap-cli/iaap-cli'\n",
    "\n",
    "# copy these from gcs\n",
    "bpm = f'{ilmn_files_path}/NeuroBooster_20042459_A2.bpm'\n",
    "egt = f'{ilmn_files_path}/recluster_09272022.egt'\n",
    "\n",
    "# paths for running pipelines\n",
    "plink_file_path = f'{datapath}/gp2_plink'\n",
    "gcs_idat_path = f'gp2_uk/gp2_idats'\n",
    "# gcs_plink_path = f'gp2_uk/gp2_plink'\n",
    "gcs_plink_path = f'gp2_uk/test'"
   ]
  },
  {
   "cell_type": "code",
   "execution_count": 3,
   "metadata": {},
   "outputs": [],
   "source": [
    "# list of idats in directory of choice\n",
    "!gsutil ls gs://gp2_uk/gp2_idats/ > cluster_scripts/idats.txt\n",
    "idats_in = pd.read_csv('cluster_scripts/idats.txt', header=None)\n",
    "idat_list = idats_in.loc[1:,0]\n",
    "idat_list = [x.replace('gs://gp2_uk/gp2_idats',f'{datapath}')[:-1] for x in idat_list]\n",
    "gcs_idat_paths = [x.replace('gs://', '').rstrip('/') for x in idats_in.loc[1:,0]]\n",
    "\n",
    "# chunk list by max nodes\n",
    "idat_list_chunks = chunks(idat_list, max_nodes)\n",
    "gcs_idat_paths_chunks = chunks(gcs_idat_paths, max_nodes)\n"
   ]
  },
  {
   "cell_type": "code",
   "execution_count": 11,
   "metadata": {},
   "outputs": [
    {
     "name": "stdout",
     "output_type": "stream",
     "text": [
      "sbatch --job-name callgts --output=/home/dan_datatecnica_com/logs/callgts.%j.o --error=/home/dan_datatecnica_com/logs/callgts.%j.e --cpus-per-task=3 --time=01:00:00 --array=1-10 /home/dan_datatecnica_com/scripts/run_python_sbatch.sh /home/dan_datatecnica_com/scripts/call_gts.py /home/dan_datatecnica_com/inputs/call_gts_0.inputs\n",
      "sbatch --job-name callgts --output=/home/dan_datatecnica_com/logs/callgts.%j.o --error=/home/dan_datatecnica_com/logs/callgts.%j.e --cpus-per-task=3 --time=01:00:00 --array=1-10 /home/dan_datatecnica_com/scripts/run_python_sbatch.sh /home/dan_datatecnica_com/scripts/call_gts.py /home/dan_datatecnica_com/inputs/call_gts_1.inputs\n",
      "sbatch --job-name callgts --output=/home/dan_datatecnica_com/logs/callgts.%j.o --error=/home/dan_datatecnica_com/logs/callgts.%j.e --cpus-per-task=3 --time=01:00:00 --array=1-10 /home/dan_datatecnica_com/scripts/run_python_sbatch.sh /home/dan_datatecnica_com/scripts/call_gts.py /home/dan_datatecnica_com/inputs/call_gts_2.inputs\n",
      "sbatch --job-name callgts --output=/home/dan_datatecnica_com/logs/callgts.%j.o --error=/home/dan_datatecnica_com/logs/callgts.%j.e --cpus-per-task=3 --time=01:00:00 --array=1-10 /home/dan_datatecnica_com/scripts/run_python_sbatch.sh /home/dan_datatecnica_com/scripts/call_gts.py /home/dan_datatecnica_com/inputs/call_gts_3.inputs\n",
      "sbatch --job-name callgts --output=/home/dan_datatecnica_com/logs/callgts.%j.o --error=/home/dan_datatecnica_com/logs/callgts.%j.e --cpus-per-task=3 --time=01:00:00 --array=1-10 /home/dan_datatecnica_com/scripts/run_python_sbatch.sh /home/dan_datatecnica_com/scripts/call_gts.py /home/dan_datatecnica_com/inputs/call_gts_4.inputs\n",
      "sbatch --job-name callgts --output=/home/dan_datatecnica_com/logs/callgts.%j.o --error=/home/dan_datatecnica_com/logs/callgts.%j.e --cpus-per-task=3 --time=01:00:00 --array=1-10 /home/dan_datatecnica_com/scripts/run_python_sbatch.sh /home/dan_datatecnica_com/scripts/call_gts.py /home/dan_datatecnica_com/inputs/call_gts_5.inputs\n",
      "sbatch --job-name callgts --output=/home/dan_datatecnica_com/logs/callgts.%j.o --error=/home/dan_datatecnica_com/logs/callgts.%j.e --cpus-per-task=3 --time=01:00:00 --array=1-10 /home/dan_datatecnica_com/scripts/run_python_sbatch.sh /home/dan_datatecnica_com/scripts/call_gts.py /home/dan_datatecnica_com/inputs/call_gts_6.inputs\n",
      "sbatch --job-name callgts --output=/home/dan_datatecnica_com/logs/callgts.%j.o --error=/home/dan_datatecnica_com/logs/callgts.%j.e --cpus-per-task=3 --time=01:00:00 --array=1-10 /home/dan_datatecnica_com/scripts/run_python_sbatch.sh /home/dan_datatecnica_com/scripts/call_gts.py /home/dan_datatecnica_com/inputs/call_gts_7.inputs\n",
      "sbatch --job-name callgts --output=/home/dan_datatecnica_com/logs/callgts.%j.o --error=/home/dan_datatecnica_com/logs/callgts.%j.e --cpus-per-task=3 --time=01:00:00 --array=1-10 /home/dan_datatecnica_com/scripts/run_python_sbatch.sh /home/dan_datatecnica_com/scripts/call_gts.py /home/dan_datatecnica_com/inputs/call_gts_8.inputs\n",
      "sbatch --job-name callgts --output=/home/dan_datatecnica_com/logs/callgts.%j.o --error=/home/dan_datatecnica_com/logs/callgts.%j.e --cpus-per-task=3 --time=01:00:00 --array=1-10 /home/dan_datatecnica_com/scripts/run_python_sbatch.sh /home/dan_datatecnica_com/scripts/call_gts.py /home/dan_datatecnica_com/inputs/call_gts_9.inputs\n",
      "sbatch --job-name callgts --output=/home/dan_datatecnica_com/logs/callgts.%j.o --error=/home/dan_datatecnica_com/logs/callgts.%j.e --cpus-per-task=3 --time=01:00:00 --array=1-10 /home/dan_datatecnica_com/scripts/run_python_sbatch.sh /home/dan_datatecnica_com/scripts/call_gts.py /home/dan_datatecnica_com/inputs/call_gts_10.inputs\n",
      "sbatch --job-name callgts --output=/home/dan_datatecnica_com/logs/callgts.%j.o --error=/home/dan_datatecnica_com/logs/callgts.%j.e --cpus-per-task=3 --time=01:00:00 --array=1-10 /home/dan_datatecnica_com/scripts/run_python_sbatch.sh /home/dan_datatecnica_com/scripts/call_gts.py /home/dan_datatecnica_com/inputs/call_gts_11.inputs\n",
      "sbatch --job-name callgts --output=/home/dan_datatecnica_com/logs/callgts.%j.o --error=/home/dan_datatecnica_com/logs/callgts.%j.e --cpus-per-task=3 --time=01:00:00 --array=1-10 /home/dan_datatecnica_com/scripts/run_python_sbatch.sh /home/dan_datatecnica_com/scripts/call_gts.py /home/dan_datatecnica_com/inputs/call_gts_12.inputs\n",
      "sbatch --job-name callgts --output=/home/dan_datatecnica_com/logs/callgts.%j.o --error=/home/dan_datatecnica_com/logs/callgts.%j.e --cpus-per-task=3 --time=01:00:00 --array=1-10 /home/dan_datatecnica_com/scripts/run_python_sbatch.sh /home/dan_datatecnica_com/scripts/call_gts.py /home/dan_datatecnica_com/inputs/call_gts_13.inputs\n",
      "sbatch --job-name callgts --output=/home/dan_datatecnica_com/logs/callgts.%j.o --error=/home/dan_datatecnica_com/logs/callgts.%j.e --cpus-per-task=3 --time=01:00:00 --array=1-10 /home/dan_datatecnica_com/scripts/run_python_sbatch.sh /home/dan_datatecnica_com/scripts/call_gts.py /home/dan_datatecnica_com/inputs/call_gts_14.inputs\n",
      "sbatch --job-name callgts --output=/home/dan_datatecnica_com/logs/callgts.%j.o --error=/home/dan_datatecnica_com/logs/callgts.%j.e --cpus-per-task=3 --time=01:00:00 --array=1-10 /home/dan_datatecnica_com/scripts/run_python_sbatch.sh /home/dan_datatecnica_com/scripts/call_gts.py /home/dan_datatecnica_com/inputs/call_gts_15.inputs\n",
      "sbatch --job-name callgts --output=/home/dan_datatecnica_com/logs/callgts.%j.o --error=/home/dan_datatecnica_com/logs/callgts.%j.e --cpus-per-task=3 --time=01:00:00 --array=1-10 /home/dan_datatecnica_com/scripts/run_python_sbatch.sh /home/dan_datatecnica_com/scripts/call_gts.py /home/dan_datatecnica_com/inputs/call_gts_16.inputs\n",
      "sbatch --job-name callgts --output=/home/dan_datatecnica_com/logs/callgts.%j.o --error=/home/dan_datatecnica_com/logs/callgts.%j.e --cpus-per-task=3 --time=01:00:00 --array=1-10 /home/dan_datatecnica_com/scripts/run_python_sbatch.sh /home/dan_datatecnica_com/scripts/call_gts.py /home/dan_datatecnica_com/inputs/call_gts_17.inputs\n",
      "sbatch --job-name callgts --output=/home/dan_datatecnica_com/logs/callgts.%j.o --error=/home/dan_datatecnica_com/logs/callgts.%j.e --cpus-per-task=3 --time=01:00:00 --array=1-10 /home/dan_datatecnica_com/scripts/run_python_sbatch.sh /home/dan_datatecnica_com/scripts/call_gts.py /home/dan_datatecnica_com/inputs/call_gts_18.inputs\n",
      "sbatch --job-name callgts --output=/home/dan_datatecnica_com/logs/callgts.%j.o --error=/home/dan_datatecnica_com/logs/callgts.%j.e --cpus-per-task=3 --time=01:00:00 --array=1-10 /home/dan_datatecnica_com/scripts/run_python_sbatch.sh /home/dan_datatecnica_com/scripts/call_gts.py /home/dan_datatecnica_com/inputs/call_gts_19.inputs\n",
      "sbatch --job-name callgts --output=/home/dan_datatecnica_com/logs/callgts.%j.o --error=/home/dan_datatecnica_com/logs/callgts.%j.e --cpus-per-task=3 --time=01:00:00 --array=1-10 /home/dan_datatecnica_com/scripts/run_python_sbatch.sh /home/dan_datatecnica_com/scripts/call_gts.py /home/dan_datatecnica_com/inputs/call_gts_20.inputs\n",
      "sbatch --job-name callgts --output=/home/dan_datatecnica_com/logs/callgts.%j.o --error=/home/dan_datatecnica_com/logs/callgts.%j.e --cpus-per-task=3 --time=01:00:00 --array=1-10 /home/dan_datatecnica_com/scripts/run_python_sbatch.sh /home/dan_datatecnica_com/scripts/call_gts.py /home/dan_datatecnica_com/inputs/call_gts_21.inputs\n",
      "sbatch --job-name callgts --output=/home/dan_datatecnica_com/logs/callgts.%j.o --error=/home/dan_datatecnica_com/logs/callgts.%j.e --cpus-per-task=3 --time=01:00:00 --array=1-10 /home/dan_datatecnica_com/scripts/run_python_sbatch.sh /home/dan_datatecnica_com/scripts/call_gts.py /home/dan_datatecnica_com/inputs/call_gts_22.inputs\n",
      "sbatch --job-name callgts --output=/home/dan_datatecnica_com/logs/callgts.%j.o --error=/home/dan_datatecnica_com/logs/callgts.%j.e --cpus-per-task=3 --time=01:00:00 --array=1-10 /home/dan_datatecnica_com/scripts/run_python_sbatch.sh /home/dan_datatecnica_com/scripts/call_gts.py /home/dan_datatecnica_com/inputs/call_gts_23.inputs\n",
      "sbatch --job-name callgts --output=/home/dan_datatecnica_com/logs/callgts.%j.o --error=/home/dan_datatecnica_com/logs/callgts.%j.e --cpus-per-task=3 --time=01:00:00 --array=1-10 /home/dan_datatecnica_com/scripts/run_python_sbatch.sh /home/dan_datatecnica_com/scripts/call_gts.py /home/dan_datatecnica_com/inputs/call_gts_24.inputs\n",
      "sbatch --job-name callgts --output=/home/dan_datatecnica_com/logs/callgts.%j.o --error=/home/dan_datatecnica_com/logs/callgts.%j.e --cpus-per-task=3 --time=01:00:00 --array=1-10 /home/dan_datatecnica_com/scripts/run_python_sbatch.sh /home/dan_datatecnica_com/scripts/call_gts.py /home/dan_datatecnica_com/inputs/call_gts_25.inputs\n",
      "sbatch --job-name callgts --output=/home/dan_datatecnica_com/logs/callgts.%j.o --error=/home/dan_datatecnica_com/logs/callgts.%j.e --cpus-per-task=3 --time=01:00:00 --array=1-10 /home/dan_datatecnica_com/scripts/run_python_sbatch.sh /home/dan_datatecnica_com/scripts/call_gts.py /home/dan_datatecnica_com/inputs/call_gts_26.inputs\n",
      "sbatch --job-name callgts --output=/home/dan_datatecnica_com/logs/callgts.%j.o --error=/home/dan_datatecnica_com/logs/callgts.%j.e --cpus-per-task=3 --time=01:00:00 --array=1-10 /home/dan_datatecnica_com/scripts/run_python_sbatch.sh /home/dan_datatecnica_com/scripts/call_gts.py /home/dan_datatecnica_com/inputs/call_gts_27.inputs\n",
      "sbatch --job-name callgts --output=/home/dan_datatecnica_com/logs/callgts.%j.o --error=/home/dan_datatecnica_com/logs/callgts.%j.e --cpus-per-task=3 --time=01:00:00 --array=1-5 /home/dan_datatecnica_com/scripts/run_python_sbatch.sh /home/dan_datatecnica_com/scripts/call_gts.py /home/dan_datatecnica_com/inputs/call_gts_28.inputs\n"
     ]
    }
   ],
   "source": [
    "# the following is run in batches of <=199 jobs (1 job per sentrix barcode)\n",
    "# sbatch_cmds saves the commands that will be run in the notebook using gcloud compute ...\n",
    "sbatch_cmds = []\n",
    "\n",
    "# loop through chunks of <=199 barcodes\n",
    "for i, idat_list_chunk in enumerate(idat_list_chunks):\n",
    "\n",
    "    input_file_path = f'inputs/call_gts_{i}.inputs'\n",
    "\n",
    "    job_name = f'callgts'\n",
    "    ntasks = len(idat_list_chunk)\n",
    "\n",
    "    # this writes input_file path which contains 3 columns: \n",
    "    # 1. path to idat in the cluster \n",
    "    # 2. path to idat directory in gcs \n",
    "    # 3. path to output in gcs\n",
    "\n",
    "    with open(input_file_path, 'w') as f:\n",
    "        for j, idat in enumerate(idat_list_chunk):\n",
    "            code = idat.split('/')[-1]\n",
    "            gcs_idat_path = f'{gcs_idat_path}/{code}'\n",
    "            gcs_plink_path_out = f'{gcs_plink_path}/'\n",
    "            # f.write(f\"{idat}\\t{gcs_idat_paths_chunks[i][j]}\\t{gcs_idat_paths_chunks[i][j]}\\n\")\n",
    "            f.write(f\"--input {idat}\\t--gcs_in {gcs_idat_paths_chunks[i][j]}\\t--gcs_out {gcs_plink_path_out}\\n\")\n",
    "    f.close()\n",
    "\n",
    "    # now write command for this batch of <=199 sentrix barcodes\n",
    "    sbatch_cmd = f\"sbatch --job-name {job_name} --output={userhome}/logs/{job_name}.%j.o --error={userhome}/logs/{job_name}.%j.e --cpus-per-task=3 --time=01:00:00 --array=1-{ntasks} {userhome}/scripts/run_python_sbatch.sh {userhome}/scripts/call_gts.py {userhome}/{input_file_path}\"\n",
    "    sbatch_cmds.append(sbatch_cmd)\n",
    "    print(sbatch_cmd)\n",
    "# %A_%a"
   ]
  },
  {
   "cell_type": "code",
   "execution_count": 12,
   "metadata": {},
   "outputs": [
    {
     "name": "stdout",
     "output_type": "stream",
     "text": [
      "/etc/profile.d/lang.sh: line 19: warning: setlocale: LC_CTYPE: cannot change locale (UTF-8): No such file or directory\n",
      "run_python_sbatch.sh                          100%  537     3.7KB/s   00:00    \n",
      "/etc/profile.d/lang.sh: line 19: warning: setlocale: LC_CTYPE: cannot change locale (UTF-8): No such file or directory\n",
      "call_gts.py                                   100% 1668     2.7KB/s   00:00    \n",
      "/etc/profile.d/lang.sh: line 19: warning: setlocale: LC_CTYPE: cannot change locale (UTF-8): No such file or directory\n",
      "call_gts_0.inputs                             100%  930     6.3KB/s   00:00    \n",
      "call_gts_1.inputs                             100%  930     6.3KB/s   00:00    \n",
      "call_gts_10.inputs                            100%  930     6.2KB/s   00:00    \n",
      "call_gts_11.inputs                            100%  930     6.3KB/s   00:00    \n",
      "call_gts_12.inputs                            100%  930     5.6KB/s   00:00    \n",
      "call_gts_13.inputs                            100%  930     6.3KB/s   00:00    \n",
      "call_gts_14.inputs                            100%  930     6.2KB/s   00:00    \n",
      "call_gts_15.inputs                            100%  930     6.0KB/s   00:00    \n",
      "call_gts_16.inputs                            100%  930     6.1KB/s   00:00    \n",
      "call_gts_17.inputs                            100%  930     5.8KB/s   00:00    \n",
      "call_gts_18.inputs                            100%  930     6.1KB/s   00:00    \n",
      "call_gts_19.inputs                            100%  930     6.1KB/s   00:00    \n",
      "call_gts_2.inputs                             100%  930     5.9KB/s   00:00    \n",
      "call_gts_20.inputs                            100%  930     6.2KB/s   00:00    \n",
      "call_gts_21.inputs                            100%  930     6.2KB/s   00:00    \n",
      "call_gts_22.inputs                            100%  930     6.4KB/s   00:00    \n",
      "call_gts_23.inputs                            100%  930     6.1KB/s   00:00    \n",
      "call_gts_24.inputs                            100%  930     5.8KB/s   00:00    \n",
      "call_gts_25.inputs                            100%  930     5.9KB/s   00:00    \n",
      "call_gts_26.inputs                            100%  930     6.3KB/s   00:00    \n",
      "call_gts_27.inputs                            100%  930     6.4KB/s   00:00    \n",
      "call_gts_28.inputs                            100%  457     3.0KB/s   00:00    \n",
      "call_gts_3.inputs                             100%  930     6.1KB/s   00:00    \n",
      "call_gts_4.inputs                             100%  930     6.2KB/s   00:00    \n",
      "call_gts_5.inputs                             100%  930     6.0KB/s   00:00    \n",
      "call_gts_6.inputs                             100%  930     6.3KB/s   00:00    \n",
      "call_gts_7.inputs                             100%  930     5.9KB/s   00:00    \n",
      "call_gts_8.inputs                             100%  930     6.1KB/s   00:00    \n",
      "call_gts_9.inputs                             100%  930     6.3KB/s   00:00    \n"
     ]
    }
   ],
   "source": [
    "# copy scripts to vm\n",
    "!gcloud compute scp cluster_scripts/run_python_sbatch.sh genoslurm-uk-controller:{userhome}/scripts/ --project genotools --zone europe-west2-a\n",
    "!gcloud compute scp cluster_scripts/call_gts.py genoslurm-uk-controller:{userhome}/scripts/ --project genotools --zone europe-west2-a\n",
    "!gcloud compute scp inputs/* genoslurm-uk-controller:{userhome}/inputs/ --project genotools --zone europe-west2-a"
   ]
  },
  {
   "cell_type": "code",
   "execution_count": 13,
   "metadata": {},
   "outputs": [
    {
     "name": "stdout",
     "output_type": "stream",
     "text": [
      "/etc/profile.d/lang.sh: line 19: warning: setlocale: LC_CTYPE: cannot change locale (UTF-8): No such file or directory\n",
      "Submitted batch job 376\n",
      "/etc/profile.d/lang.sh: line 19: warning: setlocale: LC_CTYPE: cannot change locale (UTF-8): No such file or directory\n",
      "Submitted batch job 386\n",
      "/etc/profile.d/lang.sh: line 19: warning: setlocale: LC_CTYPE: cannot change locale (UTF-8): No such file or directory\n",
      "Submitted batch job 396\n",
      "/etc/profile.d/lang.sh: line 19: warning: setlocale: LC_CTYPE: cannot change locale (UTF-8): No such file or directory\n",
      "Submitted batch job 406\n",
      "/etc/profile.d/lang.sh: line 19: warning: setlocale: LC_CTYPE: cannot change locale (UTF-8): No such file or directory\n",
      "Submitted batch job 416\n"
     ]
    }
   ],
   "source": [
    "# launch commands\n",
    "for cmd in sbatch_cmds[0:5]:\n",
    "    !gcloud compute ssh genoslurm-uk-controller --zone europe-west2-a --project genotools --command \"{cmd}\""
   ]
  },
  {
   "cell_type": "code",
   "execution_count": null,
   "metadata": {},
   "outputs": [],
   "source": []
  },
  {
   "attachments": {},
   "cell_type": "markdown",
   "metadata": {},
   "source": [
    "# imputation test"
   ]
  },
  {
   "cell_type": "code",
   "execution_count": 20,
   "metadata": {},
   "outputs": [],
   "source": [
    "ref_panel = '/impute/ref/PASS.Variants.TOPMed_freeze5_hg38_dbSNP.tab.gz'\n",
    "check_bim_pl = '/impute/tools/HRC-1000G-check-bim-NoReadKey.pl'\n",
    "geno_path = '/impute/test_data/GP2_round4_JAN_24_2023_AFR_maf_hwe'\n",
    "out_path = '/impute/tmp/test_impute'\n",
    "input_file_path = f'inputs/impute_prep.inputs' \n",
    "sbatch_cmds = []\n",
    "job_name = f'impute_prep'\n",
    "ntasks = 1\n",
    "\n",
    "with open(input_file_path, 'w') as f:\n",
    "    f.write(f\"--geno_in {geno_path}\\t--geno_out {out_path}\\t--ref_panel {ref_panel}\\t--check_bim_pl {check_bim_pl}\\n\")\n",
    "f.close()\n",
    "\n",
    "sbatch_cmd = f\"sbatch --job-name {job_name} --output={userhome}/logs/{job_name}.%j.o --error={userhome}/logs/{job_name}.%j.e --cpus-per-task=3 --time=01:00:00 --array=1-{ntasks} {userhome}/scripts/run_python_sbatch.sh {userhome}/scripts/imputation_prep.py {userhome}/{input_file_path}\"\n",
    "# sbatch_cmds.append(sbatch_cmd)\n",
    "# print(sbatch_cmd)"
   ]
  },
  {
   "cell_type": "code",
   "execution_count": 21,
   "metadata": {},
   "outputs": [
    {
     "name": "stdout",
     "output_type": "stream",
     "text": [
      "/etc/profile.d/lang.sh: line 19: warning: setlocale: LC_CTYPE: cannot change locale (UTF-8): No such file or directory\n",
      "run_python_sbatch.sh                          100%  537     5.6KB/s   00:00    \n",
      "/etc/profile.d/lang.sh: line 19: warning: setlocale: LC_CTYPE: cannot change locale (UTF-8): No such file or directory\n",
      "imputation_prep.py                            100%  823     8.7KB/s   00:00    \n",
      "/etc/profile.d/lang.sh: line 19: warning: setlocale: LC_CTYPE: cannot change locale (UTF-8): No such file or directory\n",
      "impute_prep.inputs                            100%  231     2.5KB/s   00:00    \n"
     ]
    }
   ],
   "source": [
    "!gcloud compute scp cluster_scripts/run_python_sbatch.sh impute-controller:{userhome}/scripts/ --project genotools --zone us-central1-a\n",
    "!gcloud compute scp cluster_scripts/imputation_prep.py impute-controller:{userhome}/scripts/ --project genotools --zone us-central1-a\n",
    "!gcloud compute scp inputs/impute_prep.inputs impute-controller:{userhome}/inputs/ --project genotools --zone us-central1-a"
   ]
  },
  {
   "cell_type": "code",
   "execution_count": 22,
   "metadata": {},
   "outputs": [
    {
     "name": "stdout",
     "output_type": "stream",
     "text": [
      "/etc/profile.d/lang.sh: line 19: warning: setlocale: LC_CTYPE: cannot change locale (UTF-8): No such file or directory\n",
      "Submitted batch job 3\n"
     ]
    }
   ],
   "source": [
    "!gcloud compute ssh impute-controller --zone us-central1-a --project genotools --command \"{sbatch_cmd}\""
   ]
  },
  {
   "cell_type": "code",
   "execution_count": null,
   "metadata": {},
   "outputs": [],
   "source": []
  }
 ],
 "metadata": {
  "kernelspec": {
   "display_name": ".venv",
   "language": "python",
   "name": "python3"
  },
  "language_info": {
   "codemirror_mode": {
    "name": "ipython",
    "version": 3
   },
   "file_extension": ".py",
   "mimetype": "text/x-python",
   "name": "python",
   "nbconvert_exporter": "python",
   "pygments_lexer": "ipython3",
   "version": "3.9.6"
  },
  "orig_nbformat": 4,
  "vscode": {
   "interpreter": {
    "hash": "0f7160342989abd67da089259c8f7d683a0ec2850c327d5a4ff1c722e0eb3dc7"
   }
  }
 },
 "nbformat": 4,
 "nbformat_minor": 2
}
