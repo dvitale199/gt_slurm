{
 "cells": [
  {
   "cell_type": "code",
   "execution_count": 4,
   "metadata": {},
   "outputs": [],
   "source": [
    "import pandas as pd\n",
    "import os\n",
    "from genoslurm.genoslurm import chunks, GenCallJob"
   ]
  },
  {
   "cell_type": "code",
   "execution_count": 5,
   "metadata": {},
   "outputs": [],
   "source": [
    "# cluster config variables\n",
    "max_nodes = 10\n",
    "\n",
    "# paths\n",
    "userhome = '/home/dan_datatecnica_com'\n",
    "datapath = f'{userhome}/data'\n",
    "# tmp_dir = f'{userhome}/tmp'\n",
    "log_dir = f'{userhome}/logs'\n",
    "ilmn_files_path = f'{userhome}/ilmn_files'\n",
    "iaap = f'{userhome}/GenoTools/executables/iaap-cli-linux-x64-1.1.0-sha.80d7e5b3d9c1fdfc2e99b472a90652fd3848bbc7/iaap-cli/iaap-cli'\n",
    "bpm = f'{ilmn_files_path}/NeuroBooster_20042459_A2.bpm'\n",
    "egt = f'{ilmn_files_path}/recluster_09272022.egt'\n",
    "plink_file_path = f'{datapath}/gp2_plink'\n",
    "gcs_plink_path = f'gp2_uk/gp2_plink'\n",
    "gcs_idat_path = f'gp2_uk/gp2_idats'"
   ]
  },
  {
   "cell_type": "code",
   "execution_count": 9,
   "metadata": {},
   "outputs": [],
   "source": [
    "# list of idats in directory of choice\n",
    "!gsutil ls gs://gp2_uk/gp2_idats/ > cluster_scripts/idats.txt\n",
    "idats_in = pd.read_csv('cluster_scripts/idats.txt', header=None)\n",
    "idat_list = idats_in.loc[1:,0]\n",
    "idat_list = [x.replace('gs://gp2_uk/gp2_idats',f'{datapath}')[:-1] for x in idat_list]\n",
    "gcs_idat_paths = [x.replace('gs://', '').rstrip('/') for x in idats_in.loc[1:,0]]\n",
    "# chunk list by max nodes\n",
    "idat_list_chunks = chunks(idat_list, max_nodes)\n",
    "gcs_idat_paths_chunks = chunks(gcs_idat_paths, max_nodes)"
   ]
  },
  {
   "cell_type": "code",
   "execution_count": 21,
   "metadata": {},
   "outputs": [
    {
     "name": "stdout",
     "output_type": "stream",
     "text": [
      "sbatch /home/dan_datatecnica_com/scripts/call_gts.sh 10 /home/dan_datatecnica_com/inputs/call_gts_0.inputs callgts_0\n",
      "sbatch /home/dan_datatecnica_com/scripts/call_gts.sh 2 /home/dan_datatecnica_com/inputs/call_gts_1.inputs callgts_1\n"
     ]
    }
   ],
   "source": [
    "sbatch_cmds = []\n",
    "for i, idat_list_chunk in enumerate(idat_list_chunks):\n",
    "\n",
    "    # script_path = f'cluster_scripts/call_gts_{i}.sh'\n",
    "    input_file_path = f'inputs/call_gts_{i}.inputs'\n",
    "\n",
    "    # eventually accept all of these commands with flags in the sbatch script\n",
    "    job_name = f'callgts_{i}'\n",
    "    # log_path = f'{userhome}/logs'\n",
    "    # nodes = len(idat_list_chunk)\n",
    "    ntasks = len(idat_list_chunk)\n",
    "    # time_limit = '01:00:00'\n",
    "    # array = f'1-{len(idat_list_chunk)}'\n",
    "    # cpus_per_task = '2'\n",
    "\n",
    "    with open(input_file_path, 'w') as f:\n",
    "        for j in range(len(idat_list_chunk)):\n",
    "            code = idat_list_chunk[j].split('/')[-1]\n",
    "            gcs_idat_path = f'{gcs_idat_path}/{code}'\n",
    "            f.write(f\"{idat_list_chunk[j]}\\t{gcs_idat_paths_chunks[i][j]}\\t{gcs_idat_paths_chunks[i][j]}\\n\")\n",
    "    f.close()\n",
    "\n",
    "    sbatch_cmd = f\"sbatch {userhome}/scripts/call_gts.sh {ntasks} {userhome}/{input_file_path} {job_name}\"\n",
    "    sbatch_cmds.append(sbatch_cmd)\n",
    "    print(sbatch_cmd)\n"
   ]
  },
  {
   "cell_type": "code",
   "execution_count": 24,
   "metadata": {},
   "outputs": [
    {
     "name": "stdout",
     "output_type": "stream",
     "text": [
      "/etc/profile.d/lang.sh: line 19: warning: setlocale: LC_CTYPE: cannot change locale (UTF-8): No such file or directory\n",
      "call_gts.sh                                   100%  654     5.1KB/s   00:00    \n",
      "/etc/profile.d/lang.sh: line 19: warning: setlocale: LC_CTYPE: cannot change locale (UTF-8): No such file or directory\n",
      "call_gts.py                                   100% 1633    12.8KB/s   00:00    \n",
      "/etc/profile.d/lang.sh: line 19: warning: setlocale: LC_CTYPE: cannot change locale (UTF-8): No such file or directory\n",
      "call_gts_0.inputs                             100% 1040     8.1KB/s   00:00    \n",
      "call_gts_1.inputs                             100%  208     1.6KB/s   00:00    \n"
     ]
    }
   ],
   "source": [
    "# copy scripts to vm\n",
    "!gcloud compute scp cluster_scripts/call_gts.sh genoslurm-uk-v1-controller:{userhome}/scripts/ --project genotools --zone europe-west2-a\n",
    "!gcloud compute scp cluster_scripts/call_gts.py genoslurm-uk-v1-controller:{userhome}/scripts/ --project genotools --zone europe-west2-a\n",
    "!gcloud compute scp inputs/* genoslurm-uk-v1-controller:{userhome}/inputs/ --project genotools --zone europe-west2-a"
   ]
  },
  {
   "cell_type": "code",
   "execution_count": 26,
   "metadata": {},
   "outputs": [
    {
     "name": "stdout",
     "output_type": "stream",
     "text": [
      "/etc/profile.d/lang.sh: line 19: warning: setlocale: LC_CTYPE: cannot change locale (UTF-8): No such file or directory\n",
      "sbatch: error: Invalid numeric value \"$1\" for --ntasks.\n"
     ]
    }
   ],
   "source": [
    "# launch commands\n",
    "!gcloud compute ssh --zone europe-west2-a --project genotools genoslurm-uk-v1-controller --command \"{sbatch_cmds[1]}\""
   ]
  },
  {
   "cell_type": "code",
   "execution_count": null,
   "metadata": {},
   "outputs": [],
   "source": []
  },
  {
   "cell_type": "code",
   "execution_count": null,
   "metadata": {},
   "outputs": [],
   "source": []
  },
  {
   "cell_type": "code",
   "execution_count": 4,
   "metadata": {},
   "outputs": [],
   "source": [
    "for i, idat_list_chunk in enumerate(idat_list_chunks):\n",
    "\n",
    "    script_path = f'cluster_scripts/call_gts_{i}.sh'\n",
    "    job_name = f'callgts_{i}'\n",
    "    log_path = f'{userhome}/logs'\n",
    "    nodes = len(idat_list_chunk)\n",
    "    ntasks = len(idat_list_chunk)\n",
    "    time_limit = '01:00:00'\n",
    "    array = f'1-{len(idat_list_chunk)}'\n",
    "    cpus_per_task = '2'\n",
    "\n",
    "\n",
    "    job = GenCallJob(\n",
    "        sbatch_path=script_path, \n",
    "        idat_dir_ins=idat_list_chunk, \n",
    "        gcs_idat_path=gcs_idat_path, \n",
    "        iaap=iaap, \n",
    "        bpm=bpm, \n",
    "        egt=egt, \n",
    "        gcs_plink_path=gcs_plink_path,\n",
    "        log_path=log_dir,\n",
    "        job_name=job_name,\n",
    "        nodes=nodes,\n",
    "        tasks_per_node=1,\n",
    "        threads=4, \n",
    "        ntasks=ntasks, \n",
    "        cpus_per_task=3, \n",
    "        mem_per_cpu='2G', \n",
    "        time='01:00:00'\n",
    "        )\n",
    "        \n",
    "    job.write_sbatch_script()"
   ]
  },
  {
   "cell_type": "code",
   "execution_count": 5,
   "metadata": {},
   "outputs": [
    {
     "name": "stdout",
     "output_type": "stream",
     "text": [
      "/etc/profile.d/lang.sh: line 19: warning: setlocale: LC_CTYPE: cannot change locale (UTF-8): No such file or directory\n",
      "call_gts_0.sh                                 100% 2038    15.0KB/s   00:00    \n",
      "call_gts_1.sh                                 100%  554     4.2KB/s   00:00    \n",
      "/etc/profile.d/lang.sh: line 19: warning: setlocale: LC_CTYPE: cannot change locale (UTF-8): No such file or directory\n",
      "call_gts.py                                   100% 1633    12.6KB/s   00:00    \n"
     ]
    }
   ],
   "source": [
    "# copy scripts to vm\n",
    "!gcloud compute scp cluster_scripts/call_gts.sh genoslurm-uk-v1-login0:/home/dan_datatecnica_com/scripts/ --project genotools --zone europe-west2-a\n",
    "!gcloud compute scp cluster_scripts/call_gts.py genoslurm-uk-v1-login0:/home/dan_datatecnica_com/scripts/ --project genotools --zone europe-west2-a"
   ]
  },
  {
   "cell_type": "code",
   "execution_count": 6,
   "metadata": {},
   "outputs": [
    {
     "name": "stdout",
     "output_type": "stream",
     "text": [
      "/etc/profile.d/lang.sh: line 19: warning: setlocale: LC_CTYPE: cannot change locale (UTF-8): No such file or directory\n",
      "Submitted batch job 29\n"
     ]
    }
   ],
   "source": [
    "# launch commands\n",
    "!gcloud compute ssh --zone europe-west2-a --project genotools genoslurm-uk-v1-login0 --command 'sbatch -N 2 /home/dan_datatecnica_com/scripts/call_gts_1.sh'"
   ]
  },
  {
   "cell_type": "code",
   "execution_count": 5,
   "metadata": {},
   "outputs": [
    {
     "name": "stdout",
     "output_type": "stream",
     "text": [
      "#!/bin/bash\n",
      "srun python3 /home/dan_datatecnica_com/scripts/call_gts.py --input /home/dan_datatecnica_com/data/206451070115 --gcs_in gp2_uk/gp2_idats/206451070115 --gcs_out gp2_uk/gp2_plink &\n",
      "srun python3 /home/dan_datatecnica_com/scripts/call_gts.py --input /home/dan_datatecnica_com/data/206451070117 --gcs_in gp2_uk/gp2_idats/206451070117 --gcs_out gp2_uk/gp2_plink &\n",
      "wait"
     ]
    }
   ],
   "source": [
    "!cat cluster_scripts/call_gts_{i}.sh"
   ]
  },
  {
   "cell_type": "code",
   "execution_count": null,
   "metadata": {},
   "outputs": [],
   "source": []
  },
  {
   "cell_type": "code",
   "execution_count": null,
   "metadata": {},
   "outputs": [],
   "source": []
  },
  {
   "cell_type": "code",
   "execution_count": null,
   "metadata": {},
   "outputs": [],
   "source": []
  },
  {
   "cell_type": "code",
   "execution_count": null,
   "metadata": {},
   "outputs": [],
   "source": []
  }
 ],
 "metadata": {
  "kernelspec": {
   "display_name": ".venv",
   "language": "python",
   "name": "python3"
  },
  "language_info": {
   "codemirror_mode": {
    "name": "ipython",
    "version": 3
   },
   "file_extension": ".py",
   "mimetype": "text/x-python",
   "name": "python",
   "nbconvert_exporter": "python",
   "pygments_lexer": "ipython3",
   "version": "3.9.6"
  },
  "orig_nbformat": 4,
  "vscode": {
   "interpreter": {
    "hash": "0f7160342989abd67da089259c8f7d683a0ec2850c327d5a4ff1c722e0eb3dc7"
   }
  }
 },
 "nbformat": 4,
 "nbformat_minor": 2
}
