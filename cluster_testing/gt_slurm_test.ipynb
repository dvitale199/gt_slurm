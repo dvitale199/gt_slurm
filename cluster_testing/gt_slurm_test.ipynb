{
 "cells": [
  {
   "cell_type": "markdown",
   "metadata": {},
   "source": [
    "# slurm cluster testing\n",
    "the following is some testing for writing and executing sbatch jobs for data in gcs in the new slurm cluster"
   ]
  },
  {
   "cell_type": "code",
   "execution_count": 2,
   "metadata": {},
   "outputs": [],
   "source": [
    "import pandas as pd"
   ]
  },
  {
   "cell_type": "code",
   "execution_count": null,
   "metadata": {},
   "outputs": [],
   "source": [
    "# setup for jupyter in slurm\n",
    "# https://towardsdatascience.com/running-jupyter-notebook-in-google-cloud-platform-in-15-min-61e16da34d52\n",
    "\n",
    "# copy key to slurm cluster\n",
    "#gcloud compute scp keys/genotools-ee5d11817508.json --zone \"us-central1-a\" \"genoslurm-login-7vbw7cih-001\":/home/dan_datatecnica_com/keys/  --tunnel-through-iap --project \"genotools\"\n",
    "\n",
    "\n",
    "# use the following command in interactive controller to mount gcs bucket to slurm controller\n",
    "# gcsfuse --dir-mode 776 --file-mode 776 --implicit-dirs --key-file=/home/dan_datatecnica_com/keys/genotools-ee5d11817508.json gp2_data /home/dan_datatecnica_com/data"
   ]
  },
  {
   "cell_type": "code",
   "execution_count": 1,
   "metadata": {},
   "outputs": [],
   "source": [
    "!gsutil ls gs://gp2_uk/gp2_idats/ > tmp/idats.txt"
   ]
  },
  {
   "cell_type": "code",
   "execution_count": null,
   "metadata": {},
   "outputs": [],
   "source": []
  },
  {
   "cell_type": "code",
   "execution_count": 15,
   "metadata": {},
   "outputs": [
    {
     "data": {
      "text/plain": [
       "['/home/dan_datatecnica_com/data/gp2_idats/204620380001']"
      ]
     },
     "execution_count": 15,
     "metadata": {},
     "output_type": "execute_result"
    }
   ],
   "source": [
    "idats_in = pd.read_csv('tmp/idats.txt', header=None)\n",
    "idat_list = idats_in.loc[1:,0]\n",
    "idat_paths = [x.replace('gs://gp2_data/gp2_idats','/home/dan_datatecnica_com/data/gp2_idats')[:-1] for x in idat_list]\n",
    "idat_paths\n",
    "\n"
   ]
  },
  {
   "cell_type": "code",
   "execution_count": 7,
   "metadata": {},
   "outputs": [
    {
     "name": "stdout",
     "output_type": "stream",
     "text": [
      "204620380001\n"
     ]
    }
   ],
   "source": [
    "# with open(f'tmp/call_gts.sbatch', 'w') as f:\n",
    "\n",
    "for idat in idat_list:\n",
    "    code = idat.split('/')[-2]\n",
    "    idat_path = '/home/dan_datatecnica_com/data/gp2_idats'\n",
    "#         idat_to_ped_cmd = f'\\\n",
    "# {iaap} gencall \\\n",
    "# {bpm} \\\n",
    "# {egt} \\\n",
    "# {plink_file_path} \\\n",
    "# -f {idat_path}/{code} \\\n",
    "# -p \\\n",
    "# -t 8'"
   ]
  },
  {
   "cell_type": "code",
   "execution_count": 18,
   "metadata": {},
   "outputs": [],
   "source": [
    "# file_paths = ['file1.txt', 'file2.txt', 'file3.txt']\n",
    "# command = 'gencall -f {file_path}'\n",
    "datapath = '/home/dan_datatecnica_com/data'\n",
    "iaap = '/home/dan_datatecnica_com/GenoTools/executables/iaap-cli-linux-x64-1.1.0-sha.80d7e5b3d9c1fdfc2e99b472a90652fd3848bbc7/iaap-cli/iaap-cli'\n",
    "bpm = f'{datapath}/ilmn_files/NeuroBooster_20042459_A1.bpm'\n",
    "egt = f'{datapath}/ilmn_files/recluster_09272022.egt'\n",
    "plink_file_path = f'{datapath}/ilmn_files/gp2_plink'\n",
    "\n",
    "\n",
    "\n",
    "# Create a sbatch script\n",
    "with open('tmp/call_gts.sh', 'w') as f:\n",
    "    f.write('#!/bin/bash\\n')\n",
    "    f.write('SBATCH --job-name=callgts\\n')\n",
    "    f.write('SBATCH --output=callgts.out\\n')\n",
    "    f.write('SBATCH --error=callgts.err\\n')\n",
    "    f.write(f'SBATCH --ntasks={len(idat_paths)}\\n')\n",
    "    f.write('SBATCH --time=01:00:00\\n')\n",
    "    f.write(f'SBATCH --array=1-{len(idat_paths)}\\n')\n",
    "    f.write('\\n')\n",
    "    f.write('echo \"Starting job\"\\n')\n",
    "    f.write('date\\n')\n",
    "    f.write('\\n')\n",
    "    for i, idat_path in enumerate(idat_paths):\n",
    "        code = idat_path.split('/')[-1]\n",
    "        idat_dir_in = f'{datapath}/gp2_idats/{code}'\n",
    "        command = f'\\\n",
    "{iaap} gencall \\\n",
    "{bpm} \\\n",
    "{egt} \\\n",
    "{plink_file_path} \\\n",
    "-f {idat_dir_in} \\\n",
    "-p \\\n",
    "-t 8'\n",
    "        f.write(f'# Run command for file {idat_dir_in}\\n')\n",
    "        f.write(f'{command}\\n')\n",
    "    f.write('\\n')\n",
    "    f.write('echo \"Job finished\"\\n')\n",
    "    f.write('date\\n')\n",
    "f.close()\n"
   ]
  },
  {
   "cell_type": "code",
   "execution_count": 1,
   "metadata": {},
   "outputs": [
    {
     "name": "stdout",
     "output_type": "stream",
     "text": [
      "External IP address was not found; defaulting to using IAP tunneling.\n",
      "/etc/profile.d/lang.sh: line 19: warning: setlocale: LC_CTYPE: cannot change locale (UTF-8): No such file or directory\n",
      "call_gts.sh                                   100%  680    21.1KB/s   00:00    \n"
     ]
    }
   ],
   "source": [
    "!gcloud compute scp tmp/call_gts.sh --zone \"us-central1-a\" \"genoslurm-login-7vbw7cih-001\":/home/dan_datatecnica_com/sbatch_scripts/ --project \"genotools\""
   ]
  },
  {
   "cell_type": "code",
   "execution_count": 21,
   "metadata": {},
   "outputs": [
    {
     "name": "stdout",
     "output_type": "stream",
     "text": [
      "call_gts.sh idats.txt   testjob.sh\n"
     ]
    }
   ],
   "source": [
    "!ls tmp"
   ]
  },
  {
   "cell_type": "code",
   "execution_count": null,
   "metadata": {},
   "outputs": [],
   "source": []
  }
 ],
 "metadata": {
  "kernelspec": {
   "display_name": "Python 3.9.6 ('.venv': venv)",
   "language": "python",
   "name": "python3"
  },
  "language_info": {
   "codemirror_mode": {
    "name": "ipython",
    "version": 3
   },
   "file_extension": ".py",
   "mimetype": "text/x-python",
   "name": "python",
   "nbconvert_exporter": "python",
   "pygments_lexer": "ipython3",
   "version": "3.9.6 (default, Sep 26 2022, 11:37:49) \n[Clang 14.0.0 (clang-1400.0.29.202)]"
  },
  "orig_nbformat": 4,
  "vscode": {
   "interpreter": {
    "hash": "0f7160342989abd67da089259c8f7d683a0ec2850c327d5a4ff1c722e0eb3dc7"
   }
  }
 },
 "nbformat": 4,
 "nbformat_minor": 2
}
