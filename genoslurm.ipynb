{
 "cells": [
  {
   "cell_type": "code",
   "execution_count": 1,
   "metadata": {},
   "outputs": [],
   "source": [
    "import pandas as pd"
   ]
  },
  {
   "cell_type": "code",
   "execution_count": 9,
   "metadata": {},
   "outputs": [
    {
     "data": {
      "text/plain": [
       "['204620380001',\n",
       " '206412050154',\n",
       " '206412050160',\n",
       " '206412050162',\n",
       " '206412050175',\n",
       " '206451070064',\n",
       " '206451070070',\n",
       " '206451070071',\n",
       " '206451070072',\n",
       " '206451070101',\n",
       " '206451070115',\n",
       " '206451070117']"
      ]
     },
     "execution_count": 9,
     "metadata": {},
     "output_type": "execute_result"
    }
   ],
   "source": [
    "# get list of idats in directory of choice\n",
    "# !gsutil ls gs://gp2_uk/gp2_idats/ > tmp/idats.txt\n",
    "idats_in = pd.read_csv('tmp/idats.txt', header=None)\n",
    "idat_list = idats_in.loc[1:,0]\n",
    "idat_list = [x.replace('gs://gp2_uk/gp2_idats/','')[:-1] for x in idat_list]\n",
    "idat_list"
   ]
  },
  {
   "cell_type": "code",
   "execution_count": 5,
   "metadata": {},
   "outputs": [
    {
     "data": {
      "text/plain": [
       "1     gs://gp2_uk/gp2_idats/204620380001/\n",
       "2     gs://gp2_uk/gp2_idats/206412050154/\n",
       "3     gs://gp2_uk/gp2_idats/206412050160/\n",
       "4     gs://gp2_uk/gp2_idats/206412050162/\n",
       "5     gs://gp2_uk/gp2_idats/206412050175/\n",
       "6     gs://gp2_uk/gp2_idats/206451070064/\n",
       "7     gs://gp2_uk/gp2_idats/206451070070/\n",
       "8     gs://gp2_uk/gp2_idats/206451070071/\n",
       "9     gs://gp2_uk/gp2_idats/206451070072/\n",
       "10    gs://gp2_uk/gp2_idats/206451070101/\n",
       "11    gs://gp2_uk/gp2_idats/206451070115/\n",
       "12    gs://gp2_uk/gp2_idats/206451070117/\n",
       "Name: 0, dtype: object"
      ]
     },
     "execution_count": 5,
     "metadata": {},
     "output_type": "execute_result"
    }
   ],
   "source": [
    "\n",
    "datapath = '~/data'\n",
    "ilmn_files_path = '~/ilmn_files'\n",
    "iaap = '~/GenoTools/executables/iaap-cli-linux-x64-1.1.0-sha.80d7e5b3d9c1fdfc2e99b472a90652fd3848bbc7/iaap-cli/iaap-cli'\n",
    "bpm = f'{datapath}/ilmn_files/NeuroBooster_20042459_A1.bpm'\n",
    "egt = f'{datapath}/ilmn_files/recluster_09272022.egt'\n",
    "plink_file_path = f'{datapath}/ilmn_files/gp2_plink'\n",
    "\n",
    "\n",
    "\n",
    "# Create a sbatch script\n",
    "with open('cluster_scripts/call_gts.sh', 'w') as f:\n",
    "    f.write('#!/bin/bash\\n')\n",
    "    f.write('SBATCH --job-name=callgts\\n')\n",
    "    f.write('SBATCH --output=callgts.out\\n')\n",
    "    f.write('SBATCH --error=callgts.err\\n')\n",
    "    f.write(f'SBATCH --ntasks={len(idat_list)}\\n')\n",
    "    f.write('SBATCH --time=01:00:00\\n')\n",
    "    f.write(f'SBATCH --array=1-{len(idat_list)}\\n')\n",
    "    f.write('\\n')\n",
    "    f.write('echo \"Starting job\"\\n')\n",
    "    f.write('date\\n')\n",
    "    f.write('\\n')\n",
    "    for i, idat_path in enumerate(idat_list):\n",
    "        code = idat_path.split('/')[-1]\n",
    "        idat_dir_in = f'{datapath}/{code}'\n",
    "        command = f'\\\n",
    "{iaap} gencall \\\n",
    "{bpm} \\\n",
    "{egt} \\\n",
    "{plink_file_path} \\\n",
    "-f {idat_dir_in} \\\n",
    "-p \\\n",
    "-t 8'\n",
    "        f.write(f'# Run command for file {idat_dir_in}\\n')\n",
    "        f.write(f'{command}\\n')\n",
    "    f.write('\\n')\n",
    "    f.write('echo \"Job finished\"\\n')\n",
    "    f.write('date\\n')\n",
    "f.close()"
   ]
  },
  {
   "cell_type": "code",
   "execution_count": null,
   "metadata": {},
   "outputs": [],
   "source": []
  }
 ],
 "metadata": {
  "kernelspec": {
   "display_name": ".venv",
   "language": "python",
   "name": "python3"
  },
  "language_info": {
   "codemirror_mode": {
    "name": "ipython",
    "version": 3
   },
   "file_extension": ".py",
   "mimetype": "text/x-python",
   "name": "python",
   "nbconvert_exporter": "python",
   "pygments_lexer": "ipython3",
   "version": "3.9.6"
  },
  "orig_nbformat": 4,
  "vscode": {
   "interpreter": {
    "hash": "0f7160342989abd67da089259c8f7d683a0ec2850c327d5a4ff1c722e0eb3dc7"
   }
  }
 },
 "nbformat": 4,
 "nbformat_minor": 2
}
